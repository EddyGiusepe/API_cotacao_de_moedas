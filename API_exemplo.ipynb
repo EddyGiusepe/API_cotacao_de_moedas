{
  "nbformat": 4,
  "nbformat_minor": 0,
  "metadata": {
    "colab": {
      "name": "API_exemplo.ipynb",
      "provenance": [],
      "authorship_tag": "ABX9TyNF5wBlY8ta4lVW76TUJtmU",
      "include_colab_link": true
    },
    "kernelspec": {
      "name": "python3",
      "display_name": "Python 3"
    },
    "language_info": {
      "name": "python"
    }
  },
  "cells": [
    {
      "cell_type": "markdown",
      "metadata": {
        "id": "view-in-github",
        "colab_type": "text"
      },
      "source": [
        "<a href=\"https://colab.research.google.com/github/EddyGiusepe/API_cotacao_de_moedas/blob/main/API_exemplo.ipynb\" target=\"_parent\"><img src=\"https://colab.research.google.com/assets/colab-badge.svg\" alt=\"Open In Colab\"/></a>"
      ]
    },
    {
      "cell_type": "markdown",
      "metadata": {
        "id": "0ab1GOPHLCe-"
      },
      "source": [
        "# <h2 align='center'>**API exemplo**</h2>\n",
        "\n",
        "**Cientista de Dados Jr:** Eddy Giusepe Chirinos Isidro \n",
        "\n",
        "\n",
        "O vídeo que mostra os passos para fazer uma API [está aqui](https://www.youtube.com/watch?v=eel1OVIdfUw&ab_channel=HashtagPrograma%C3%A7%C3%A3o)."
      ]
    },
    {
      "cell_type": "markdown",
      "metadata": {
        "id": "eLoPVUquME5B"
      },
      "source": [
        "Vamos pegar a cotação do dólar de forma automática e atualizada, como fazemos?\n",
        "\n",
        "* Usamos o awesome api: https://docs.awesomeapi.com.br/\n",
        "\n",
        "* API do Twilio comentada: https://www.twilio.com/docs/libraries/python"
      ]
    },
    {
      "cell_type": "markdown",
      "metadata": {
        "id": "0IXpq3PcOlZv"
      },
      "source": [
        "Importamos as bibliotecas necessárias"
      ]
    },
    {
      "cell_type": "code",
      "metadata": {
        "id": "zfznPzEoN2HS"
      },
      "source": [
        "import requests\n",
        "import json\n"
      ],
      "execution_count": 1,
      "outputs": []
    },
    {
      "cell_type": "code",
      "metadata": {
        "colab": {
          "base_uri": "https://localhost:8080/"
        },
        "id": "CjbPm-WOOgec",
        "outputId": "bdd321fb-3d95-46fc-ec81-9fd7da43840e"
      },
      "source": [
        "# Aqui os Dados que vão ser extraídos estão no formato json!\n",
        "# Vamos a obter um formato de DICIONÁRIO do JSON\n",
        "# Temos que trae esses Dados ao formato Python\n",
        "\n",
        "cotacoes = requests.get(\"https://economia.awesomeapi.com.br/last/USD-BRL,EUR-BRL,BTC-BRL\")\n",
        "print(cotacoes)"
      ],
      "execution_count": 2,
      "outputs": [
        {
          "output_type": "stream",
          "text": [
            "<Response [200]>\n"
          ],
          "name": "stdout"
        }
      ]
    },
    {
      "cell_type": "markdown",
      "metadata": {
        "id": "rWvaO-gpRU3W"
      },
      "source": [
        "Traindo os dados no formato do ``Python``:\n"
      ]
    },
    {
      "cell_type": "code",
      "metadata": {
        "colab": {
          "base_uri": "https://localhost:8080/"
        },
        "id": "7eeK8qWMQjT7",
        "outputId": "b4965a5d-ad17-4bba-941a-72c59b465883"
      },
      "source": [
        "cotacoes = cotacoes.json()\n",
        "cotacoes"
      ],
      "execution_count": 3,
      "outputs": [
        {
          "output_type": "execute_result",
          "data": {
            "text/plain": [
              "{'BTCBRL': {'ask': '191997.8',\n",
              "  'bid': '191997.8',\n",
              "  'code': 'BTC',\n",
              "  'codein': 'BRL',\n",
              "  'create_date': '2021-06-11 19:36:58',\n",
              "  'high': '192500',\n",
              "  'low': '184100.9',\n",
              "  'name': 'Bitcoin/Real Brasileiro',\n",
              "  'pctChange': '2.13',\n",
              "  'timestamp': '1623451018',\n",
              "  'varBid': '4009.8'},\n",
              " 'EURBRL': {'ask': '6.1994',\n",
              "  'bid': '6.1965',\n",
              "  'code': 'EUR',\n",
              "  'codein': 'BRL',\n",
              "  'create_date': '2021-06-11 17:59:59',\n",
              "  'high': '6.2185',\n",
              "  'low': '6.1323',\n",
              "  'name': 'Euro/Real Brasileiro',\n",
              "  'pctChange': '0.75',\n",
              "  'timestamp': '1623445196',\n",
              "  'varBid': '0.0463'},\n",
              " 'USDBRL': {'ask': '5.1188',\n",
              "  'bid': '5.1181',\n",
              "  'code': 'USD',\n",
              "  'codein': 'BRL',\n",
              "  'create_date': '2021-06-11 17:59:58',\n",
              "  'high': '5.139',\n",
              "  'low': '5.054',\n",
              "  'name': 'Dólar Americano/Real Brasileiro',\n",
              "  'pctChange': '1.25',\n",
              "  'timestamp': '1623445195',\n",
              "  'varBid': '0.0633'}}"
            ]
          },
          "metadata": {
            "tags": []
          },
          "execution_count": 3
        }
      ]
    },
    {
      "cell_type": "markdown",
      "metadata": {
        "id": "e1XO89ZdSRqp"
      },
      "source": [
        "A seguir pegamos a cotação do Dólar americano/Real Brasileiro:"
      ]
    },
    {
      "cell_type": "code",
      "metadata": {
        "colab": {
          "base_uri": "https://localhost:8080/"
        },
        "id": "7-VNbwCCRgmK",
        "outputId": "65525224-2853-4754-9f5c-8463ba197d49"
      },
      "source": [
        "cotacao_dolar = cotacoes['USDBRL']['bid']\n",
        "print(cotacao_dolar)"
      ],
      "execution_count": 13,
      "outputs": [
        {
          "output_type": "stream",
          "text": [
            "5.1181\n"
          ],
          "name": "stdout"
        }
      ]
    },
    {
      "cell_type": "markdown",
      "metadata": {
        "id": "WVZ_RcxaVu3h"
      },
      "source": [
        "A seguir pegamos a cotação do Euro/Real Brasileiro:"
      ]
    },
    {
      "cell_type": "code",
      "metadata": {
        "colab": {
          "base_uri": "https://localhost:8080/"
        },
        "id": "xmABQVcZSrb5",
        "outputId": "0bcb033b-7e4d-42f6-f22e-7f5e82294789"
      },
      "source": [
        "cotacao_euro = cotacoes['EURBRL']['bid']\n",
        "print(cotacao_euro)"
      ],
      "execution_count": 15,
      "outputs": [
        {
          "output_type": "stream",
          "text": [
            "6.1965\n"
          ],
          "name": "stdout"
        }
      ]
    }
  ]
}